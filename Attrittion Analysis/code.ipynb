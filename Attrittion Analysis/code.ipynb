{
 "cells": [
  {
   "cell_type": "code",
   "execution_count": 84,
   "metadata": {
    "collapsed": false
   },
   "outputs": [],
   "source": [
    "%matplotlib inline\n",
    "import numpy as np \n",
    "import pandas as pd \n",
    "import matplotlib.pyplot as plt\n",
    "import seaborn as sns\n",
    "from datetime import datetime"
   ]
  },
  {
   "cell_type": "markdown",
   "metadata": {},
   "source": [
    "# Opening the file"
   ]
  },
  {
   "cell_type": "code",
   "execution_count": 85,
   "metadata": {
    "collapsed": false
   },
   "outputs": [],
   "source": [
    "#Merge all csv files into one with terminal: cat *.csv >merged.csv\n",
    "\n",
    "#Another possibility is to load the files into dataframe one by one\n",
    "#path =r'/Users/Sergey/Documents/' # use your path\n",
    "#all= glob.glob(path + \"/*.csv\")\n",
    "#df = pd.DataFrame()\n",
    "#list = []\n",
    "#for file in files:\n",
    "#    df = pd.read_csv(file,sep='\\||\\&SDF\\*', quotechar=\"'\",header=1, engine='python',error_bad_lines=False)\n",
    "#    list.append(df)\n",
    "#frame = pd.concat(list)"
   ]
  },
  {
   "cell_type": "code",
   "execution_count": 86,
   "metadata": {
    "collapsed": false
   },
   "outputs": [
    {
     "name": "stderr",
     "output_type": "stream",
     "text": [
      "Skipping line 267601: Expected 5 fields in line 267601, saw 8. Error could possibly be due to quotes being ignored when a multi-char delimiter is used.\n",
      "Skipping line 267701: Expected 5 fields in line 267701, saw 7. Error could possibly be due to quotes being ignored when a multi-char delimiter is used.\n",
      "Skipping line 290390: Expected 5 fields in line 290390, saw 6. Error could possibly be due to quotes being ignored when a multi-char delimiter is used.\n",
      "Skipping line 332548: Expected 5 fields in line 332548, saw 6. Error could possibly be due to quotes being ignored when a multi-char delimiter is used.\n",
      "Skipping line 405250: Expected 5 fields in line 405250, saw 7. Error could possibly be due to quotes being ignored when a multi-char delimiter is used.\n",
      "Skipping line 405288: Expected 5 fields in line 405288, saw 8. Error could possibly be due to quotes being ignored when a multi-char delimiter is used.\n",
      "Skipping line 475339: Expected 5 fields in line 475339, saw 7. Error could possibly be due to quotes being ignored when a multi-char delimiter is used.\n",
      "Skipping line 475366: Expected 5 fields in line 475366, saw 6. Error could possibly be due to quotes being ignored when a multi-char delimiter is used.\n",
      "Skipping line 614347: Expected 5 fields in line 614347, saw 8. Error could possibly be due to quotes being ignored when a multi-char delimiter is used.\n",
      "Skipping line 815512: Expected 5 fields in line 815512, saw 7. Error could possibly be due to quotes being ignored when a multi-char delimiter is used.\n",
      "Skipping line 890481: Expected 5 fields in line 890481, saw 6. Error could possibly be due to quotes being ignored when a multi-char delimiter is used.\n",
      "Skipping line 963636: Expected 5 fields in line 963636, saw 8. Error could possibly be due to quotes being ignored when a multi-char delimiter is used.\n",
      "Skipping line 1040553: Expected 5 fields in line 1040553, saw 7. Error could possibly be due to quotes being ignored when a multi-char delimiter is used.\n",
      "Skipping line 1116257: Expected 5 fields in line 1116257, saw 7. Error could possibly be due to quotes being ignored when a multi-char delimiter is used.\n",
      "Skipping line 1116272: Expected 5 fields in line 1116272, saw 6. Error could possibly be due to quotes being ignored when a multi-char delimiter is used.\n",
      "Skipping line 1189766: Expected 5 fields in line 1189766, saw 7. Error could possibly be due to quotes being ignored when a multi-char delimiter is used.\n"
     ]
    }
   ],
   "source": [
    "#Load the merged file into df\n",
    "df = pd.read_csv('merged.csv', sep='\\||\\&SDF\\*', quotechar=\"'\",engine='python',error_bad_lines=False)\n",
    "#We found several errors, due to the incorrect rows. For now we can skip these lines, \n",
    "#later we can check whether they will make any reasonable difference to the analysis."
   ]
  },
  {
   "cell_type": "code",
   "execution_count": 87,
   "metadata": {
    "collapsed": false
   },
   "outputs": [
    {
     "name": "stdout",
     "output_type": "stream",
     "text": [
      "  \"RecordID\" \"SubscriberID\" \"BillingMonth\" \"BillingRate\" \"Region\"\n",
      "0          1     0000000001              1       $233.94   \"West\"\n",
      "1          2     0000000002              1       $214.14   \"West\"\n",
      "2          3     0000000003              1       $208.74   \"East\"\n",
      "        \"RecordID\" \"SubscriberID\" \"BillingMonth\" \"BillingRate\" \"Region\"\n",
      "count      1236376        1236375        1236370       1236369  1236366\n",
      "unique     1235821         103894             18           126        5\n",
      "top     \"RecordID\"     0000065456              1       $221.34   \"West\"\n",
      "freq             9             13         103555         20665   495863\n"
     ]
    }
   ],
   "source": [
    "#Let's check the content of our dataframe\n",
    "print(df.head(3))\n",
    "print(df.describe())"
   ]
  },
  {
   "cell_type": "code",
   "execution_count": 88,
   "metadata": {
    "collapsed": false
   },
   "outputs": [
    {
     "data": {
      "text/plain": [
       "1236376"
      ]
     },
     "execution_count": 88,
     "metadata": {},
     "output_type": "execute_result"
    }
   ],
   "source": [
    "#check that we have all the rows\n",
    "len(df)"
   ]
  },
  {
   "cell_type": "markdown",
   "metadata": {},
   "source": [
    "# Feature preparation"
   ]
  },
  {
   "cell_type": "code",
   "execution_count": 89,
   "metadata": {
    "collapsed": false
   },
   "outputs": [
    {
     "name": "stderr",
     "output_type": "stream",
     "text": [
      "/usr/local/lib/python3.6/site-packages/ipykernel_launcher.py:8: FutureWarning: convert_objects is deprecated.  To re-infer data dtypes for object columns, use DataFrame.infer_objects()\n",
      "For all other conversions use the data-type specific converters pd.to_datetime, pd.to_timedelta and pd.to_numeric.\n",
      "  \n"
     ]
    },
    {
     "data": {
      "text/html": [
       "<div>\n",
       "<style scoped>\n",
       "    .dataframe tbody tr th:only-of-type {\n",
       "        vertical-align: middle;\n",
       "    }\n",
       "\n",
       "    .dataframe tbody tr th {\n",
       "        vertical-align: top;\n",
       "    }\n",
       "\n",
       "    .dataframe thead th {\n",
       "        text-align: right;\n",
       "    }\n",
       "</style>\n",
       "<table border=\"1\" class=\"dataframe\">\n",
       "  <thead>\n",
       "    <tr style=\"text-align: right;\">\n",
       "      <th></th>\n",
       "      <th>RecordID</th>\n",
       "      <th>SubscriberID</th>\n",
       "      <th>BillingMonth</th>\n",
       "      <th>BillingRate</th>\n",
       "      <th>Region</th>\n",
       "    </tr>\n",
       "  </thead>\n",
       "  <tbody>\n",
       "    <tr>\n",
       "      <th>0</th>\n",
       "      <td>1.0</td>\n",
       "      <td>0000000001</td>\n",
       "      <td>1.0</td>\n",
       "      <td>233.94</td>\n",
       "      <td>\"West\"</td>\n",
       "    </tr>\n",
       "    <tr>\n",
       "      <th>1</th>\n",
       "      <td>2.0</td>\n",
       "      <td>0000000002</td>\n",
       "      <td>1.0</td>\n",
       "      <td>214.14</td>\n",
       "      <td>\"West\"</td>\n",
       "    </tr>\n",
       "    <tr>\n",
       "      <th>2</th>\n",
       "      <td>3.0</td>\n",
       "      <td>0000000003</td>\n",
       "      <td>1.0</td>\n",
       "      <td>208.74</td>\n",
       "      <td>\"East\"</td>\n",
       "    </tr>\n",
       "  </tbody>\n",
       "</table>\n",
       "</div>"
      ],
      "text/plain": [
       "   RecordID SubscriberID  BillingMonth  BillingRate  Region\n",
       "0       1.0   0000000001           1.0       233.94  \"West\"\n",
       "1       2.0   0000000002           1.0       214.14  \"West\"\n",
       "2       3.0   0000000003           1.0       208.74  \"East\""
      ]
     },
     "execution_count": 89,
     "metadata": {},
     "output_type": "execute_result"
    }
   ],
   "source": [
    "#Remove quotes\n",
    "df.columns = df.columns.str.strip('\"')\n",
    "#Remove dollar sign\n",
    "df['BillingRate'] = df['BillingRate'].str.replace('$', '')\n",
    "#Convert columns to numeric format\n",
    "#Define numeric columns\n",
    "columns=['RecordID','BillingMonth','BillingRate']\n",
    "df[columns] = df[columns].convert_objects(convert_numeric=True)\n",
    "#Check the df again\n",
    "df.head(3)"
   ]
  },
  {
   "cell_type": "code",
   "execution_count": 90,
   "metadata": {
    "collapsed": false
   },
   "outputs": [],
   "source": [
    "#Change column names\n",
    "df = df.rename(columns={'RecordID' : 'RID',\n",
    "                            'SubscriberID' : 'SID',\n",
    "                            'BillingMonth' : 'Mo',\n",
    "                            'BillingRate' : 'Ra',\n",
    "                            'Region' : 'Reg',\n",
    "                            })"
   ]
  },
  {
   "cell_type": "code",
   "execution_count": 91,
   "metadata": {
    "collapsed": false
   },
   "outputs": [
    {
     "name": "stdout",
     "output_type": "stream",
     "text": [
      "RID    0\n",
      "SID    0\n",
      "Mo     0\n",
      "Ra     0\n",
      "Reg    0\n",
      "dtype: int64\n"
     ]
    }
   ],
   "source": [
    "#Remove NAN values\n",
    "df = df.dropna(how='any',axis=0)\n",
    "#Check that there are no rows with NAN\n",
    "print(df.isnull().sum())\n",
    "inds = pd.isnull(df).any(1).nonzero()[0]\n",
    "#Locate if necessary\n",
    "#print (pd.isnull(df).any(1).nonzero()[0])\n",
    "#print(df.loc[[1056]])"
   ]
  },
  {
   "cell_type": "code",
   "execution_count": 92,
   "metadata": {
    "collapsed": false
   },
   "outputs": [
    {
     "name": "stdout",
     "output_type": "stream",
     "text": [
      "<class 'pandas.core.frame.DataFrame'>\n",
      "Int64Index: 1236355 entries, 0 to 1236375\n",
      "Data columns (total 5 columns):\n",
      "RID    1236355 non-null float64\n",
      "SID    1236355 non-null object\n",
      "Mo     1236355 non-null float64\n",
      "Ra     1236355 non-null float64\n",
      "Reg    1236355 non-null object\n",
      "dtypes: float64(3), object(2)\n",
      "memory usage: 56.6+ MB\n"
     ]
    }
   ],
   "source": [
    "df.info()"
   ]
  },
  {
   "cell_type": "code",
   "execution_count": 93,
   "metadata": {
    "collapsed": false
   },
   "outputs": [],
   "source": [
    "#Convert RecID and BillingMonth to integer \n",
    "df['RID'] = df['RID'].astype(int)\n",
    "df['Mo'] = df['Mo'].astype(int)"
   ]
  },
  {
   "cell_type": "markdown",
   "metadata": {},
   "source": [
    "# Feature Engineering"
   ]
  },
  {
   "cell_type": "code",
   "execution_count": 94,
   "metadata": {
    "collapsed": false
   },
   "outputs": [
    {
     "name": "stdout",
     "output_type": "stream",
     "text": [
      "Mo\n",
      "1     103508\n",
      "2     103337\n",
      "3     103394\n",
      "4     103449\n",
      "5     103300\n",
      "6     103276\n",
      "7     102836\n",
      "8     102741\n",
      "9     102674\n",
      "10    102576\n",
      "11    102378\n",
      "12    102343\n",
      "Name: SID, dtype: int64\n"
     ]
    },
    {
     "data": {
      "image/png": "[encoded data removed]",
      "text/plain": [
       "<matplotlib.figure.Figure at 0x11683b198>"
      ]
     },
     "metadata": {},
     "output_type": "display_data"
    }
   ],
   "source": [
    "#Let's count total number of customers for every month\n",
    "#First group the dataframe by Mo and find number of unique SID\n",
    "cm=df.groupby('Mo')['SID'].nunique()\n",
    "\n",
    "#We can therefore determine number of customers of the company for each month\n",
    "print (cm)\n",
    "fig = plt.figure()\n",
    "ax=cm.plot.bar()\n",
    "plt.xlabel(\"Month\")\n",
    "plt.ylabel('Total number of customers')\n",
    "plt.ylim(102000,103600)\n",
    "ax.set_xticklabels([datetime(2017,_,1).strftime('%b') for _ in range(1,13)])\n",
    "\n",
    "plt.show\n",
    "plt.savefig('all_clients.pdf', bbox_inches='tight', format='pdf')"
   ]
  },
  {
   "cell_type": "code",
   "execution_count": 95,
   "metadata": {
    "collapsed": false
   },
   "outputs": [
    {
     "name": "stdout",
     "output_type": "stream",
     "text": [
      "105.909090909\n",
      "Mo\n",
      "1       NaN\n",
      "2     171.0\n",
      "3     -57.0\n",
      "4     -55.0\n",
      "5     149.0\n",
      "6      24.0\n",
      "7     440.0\n",
      "8      95.0\n",
      "9      67.0\n",
      "10     98.0\n",
      "11    198.0\n",
      "12     35.0\n",
      "Name: SID, dtype: float64\n"
     ]
    },
    {
     "data": {
      "image/png": "[encoded data removed]",
      "text/plain": [
       "<matplotlib.figure.Figure at 0x1168700b8>"
      ]
     },
     "metadata": {},
     "output_type": "display_data"
    }
   ],
   "source": [
    "#Take differences between total number of customers for different months will give us the number of retaining customers. \n",
    "att=cm.diff(periods=1)*(-1)\n",
    "print (att.mean())\n",
    "#We can plot full number of subscribers left at each month\n",
    "print (att)\n",
    "ax=att.plot.bar()\n",
    "plt.xlabel(\"Month\")\n",
    "plt.ylabel('Attrition rate (number of left customers)')\n",
    "ax.set_xticklabels([datetime(2017,_,1).strftime('%b') for _ in range(1,13)])\n",
    "plt.show\n",
    "plt.savefig('attrition.pdf', bbox_inches='tight', format='pdf')"
   ]
  },
  {
   "cell_type": "markdown",
   "metadata": {
    "collapsed": false
   },
   "source": [
    "# Customer attrition per region"
   ]
  },
  {
   "cell_type": "code",
   "execution_count": 96,
   "metadata": {
    "collapsed": true
   },
   "outputs": [],
   "source": [
    "#Let us split customer regions\n",
    "df_e=df[df.Reg == '\"East\"' ]\n",
    "df_w=df[df.Reg == '\"West\"' ]\n",
    "df_n=df[df.Reg == '\"North\"' ]\n",
    "df_s=df[df.Reg == '\"South\"' ]\n",
    "\n",
    "#Also change the name of the SubscriberID for each region\n",
    "df_e = df_e.rename(columns={'SID' : 'SID_e',\n",
    "                       })\n",
    "df_w = df_w.rename(columns={'SID' : 'SID_w',\n",
    "                       })\n",
    "df_n = df_n.rename(columns={'SID' : 'SID_n',\n",
    "                       })\n",
    "df_s = df_s.rename(columns={'SID' : 'SID_s',\n",
    "                       })"
   ]
  },
  {
   "cell_type": "code",
   "execution_count": 97,
   "metadata": {
    "collapsed": false
   },
   "outputs": [],
   "source": [
    "#Group customers by SID for different regions\n",
    "cm_w=df_w.groupby('Mo')['SID_w'].nunique()\n",
    "cm_e=df_e.groupby('Mo')['SID_e'].nunique()\n",
    "cm_n=df_n.groupby('Mo')['SID_n'].nunique()\n",
    "cm_s=df_s.groupby('Mo')['SID_s'].nunique()"
   ]
  },
  {
   "cell_type": "code",
   "execution_count": 98,
   "metadata": {
    "collapsed": true
   },
   "outputs": [],
   "source": [
    "#Calculate attrition again\n",
    "att_w=cm_w.diff(periods=1)*-1\n",
    "att_e=cm_e.diff(periods=1)*-1\n",
    "att_s=cm_n.diff(periods=1)*-1\n",
    "att_n=cm_s.diff(periods=1)*-1"
   ]
  },
  {
   "cell_type": "code",
   "execution_count": 99,
   "metadata": {
    "collapsed": true
   },
   "outputs": [],
   "source": [
    "#Combine the data for all regions\n",
    "df_cm=pd.concat([cm_n, cm_s, cm_w, cm_e], axis=1)\n",
    "df_att=pd.concat([att_n, att_s, att_w, att_e], axis=1)\n",
    "#sns.factorplot(x='Mo', y='rate', hue='Reg', data=df, kind='bar')"
   ]
  },
  {
   "cell_type": "code",
   "execution_count": 182,
   "metadata": {
    "collapsed": false
   },
   "outputs": [
    {
     "data": {
      "image/png": "[encoded data removed]",
      "text/plain": [
       "<matplotlib.figure.Figure at 0x11797a2b0>"
      ]
     },
     "metadata": {},
     "output_type": "display_data"
    }
   ],
   "source": [
    "#Let'us plot the customer number\n",
    "ax=df_cm.plot(kind='bar', stacked=True)\n",
    "plt.legend(['South', 'North', 'West', 'East'])\n",
    "plt.xlabel(\"Month\")\n",
    "plt.ylabel('Total number of customers')\n",
    "plt.show\n",
    "ax.set_xticklabels([datetime(2017,_,1).strftime('%b') for _ in range(1,13)])\n",
    "plt.savefig('all_clients_region.pdf', bbox_inches='tight', format='pdf')"
   ]
  },
  {
   "cell_type": "code",
   "execution_count": 181,
   "metadata": {
    "collapsed": false
   },
   "outputs": [
    {
     "name": "stdout",
     "output_type": "stream",
     "text": [
      "    SID_s  SID_n  SID_w  SID_e\n",
      "Mo                            \n",
      "1     NaN    NaN    NaN    NaN\n",
      "2    36.0   33.0   73.0   29.0\n",
      "3    -4.0  -13.0  -14.0  -26.0\n",
      "4    -6.0   -8.0  -28.0  -13.0\n",
      "5    39.0   22.0   58.0   30.0\n",
      "6    11.0    8.0   -2.0    7.0\n",
      "7    80.0   93.0  185.0   82.0\n",
      "8    28.0   16.0   34.0   17.0\n",
      "9    16.0   13.0   32.0    6.0\n",
      "10   15.0   23.0   39.0   21.0\n",
      "11   38.0   50.0   78.0   32.0\n",
      "12    8.0    1.0   22.0    3.0\n"
     ]
    },
    {
     "data": {
      "image/png": "[encoded data removed]",
      "text/plain": [
       "<matplotlib.figure.Figure at 0x11768c710>"
      ]
     },
     "metadata": {},
     "output_type": "display_data"
    }
   ],
   "source": [
    "#Let'us plot the attrition rate\n",
    "ax=df_att.plot(kind='bar', stacked=True)\n",
    "plt.legend(['South', 'North', 'West', 'East'])\n",
    "plt.xlabel(\"Month\")\n",
    "plt.ylabel('Attrition rate (number of left customers)')\n",
    "ax.set_xticklabels([datetime(2017,_,1).strftime('%b') for _ in range(1,13)])\n",
    "plt.show\n",
    "plt.savefig('attrition_region.pdf', bbox_inches='tight', format='pdf')\n",
    "print (df_att)"
   ]
  },
  {
   "cell_type": "markdown",
   "metadata": {},
   "source": [
    "# Distribution of customers"
   ]
  },
  {
   "cell_type": "code",
   "execution_count": 102,
   "metadata": {
    "collapsed": false
   },
   "outputs": [
    {
     "data": {
      "text/plain": [
       "<matplotlib.legend.Legend at 0x118051cc0>"
      ]
     },
     "execution_count": 102,
     "metadata": {},
     "output_type": "execute_result"
    },
    {
     "data": {
      "image/png": "[encoded data removed]",
      "text/plain": [
       "<matplotlib.figure.Figure at 0x116751940>"
      ]
     },
     "metadata": {},
     "output_type": "display_data"
    }
   ],
   "source": [
    "#We can also see how the price and distirbution of customers by price changed over the calendar year.\n",
    "\n",
    "#Check distribution difference with region\n",
    "#sns.distplot(df_w['Ra'], hist=True, rug=False)\n",
    "#sns.distplot(df_e['Ra'], hist=True, rug=False)\n",
    "#sns.distplot(df_n['Ra'], hist=True, rug=False)\n",
    "#sns.distplot(df_s['Ra'], hist=True, rug=False)\n",
    "\n",
    "#Check distribution difference with month\n",
    "#for i in range(1,12):\n",
    "#    df_mon=df_e[df_e.Mo == i]\n",
    "#    dp=sns.distplot(df_mon['Ra'], hist=True, rug=False)\n",
    "#    plt.xlim(150, 290)\n",
    "#    plt.ylim(0, 0.015)\n",
    "#    print (i)\n",
    "#    plt.show()\n",
    "\n",
    "#df_jul=df_w[df_w.Mo == 7]\n",
    "#df_aug=df_w[df_w.Mo == 8]\n",
    "#sns.distplot(df_jul['Ra'], hist=True, rug=False)\n",
    "#sns.distplot(df_aug['Ra'], hist=True, rug=False)\n",
    "dp=sns.distplot(df['Ra'], hist=True, rug=False)\n",
    "plt.xlim(150, 290)\n",
    "plt.xlabel(\"Billing Rate ($)\")\n",
    "plt.savefig('distr0.pdf', bbox_inches='tight', format='pdf')\n",
    "plt.ylabel(\"Customer distribution density\")\n",
    "#plt.legend(['July', 'August'],loc=8)\n",
    "plt.legend(['Averaged data over the whole year'],loc=8)"
   ]
  },
  {
   "cell_type": "markdown",
   "metadata": {},
   "source": [
    "# Averaged price changes over the year"
   ]
  },
  {
   "cell_type": "code",
   "execution_count": 178,
   "metadata": {
    "collapsed": false
   },
   "outputs": [
    {
     "data": {
      "image/png": "[encoded data removed]",
      "text/plain": [
       "<matplotlib.figure.Figure at 0x11a18e358>"
      ]
     },
     "metadata": {},
     "output_type": "display_data"
    }
   ],
   "source": [
    "#We can also check how the averaged price changes over the year\n",
    "#avr = df.groupby('Mo').mean()\n",
    "avrn = df_n.groupby('Mo').mean()\n",
    "avrs = df_s.groupby('Mo').mean()\n",
    "avre = df_e.groupby('Mo').mean()\n",
    "avrw = df_w.groupby('Mo').mean()\n",
    "\n",
    "fig, ax = plt.subplots()\n",
    "x=np.linspace(1,12,12)\n",
    "#ax.plot(avr['Ra'],'-o')\n",
    "ax.plot(x,avrs['Ra'],'-o')\n",
    "ax.plot(avrn['Ra'],'-o')\n",
    "ax.plot(avrw['Ra'],'-o')\n",
    "ax.plot(avre['Ra'],'-o')\n",
    "plt.xticks(np.arange(1,13))\n",
    "ax.legend(['South', 'North', 'West', 'East'])\n",
    "ax.set_xticklabels([datetime(2017,_,1).strftime('%b') for _ in range(1,13)])\n",
    "plt.ylabel(\"Billing Rate ($)\")\n",
    "plt.xlabel(\"Month\")\n",
    "#labels = [item.get_number() for item in ax.get_xticklabels()]\n",
    "#print (labels)\n",
    "plt.savefig('av1.pdf', bbox_inches='tight', format='pdf')\n",
    "plt.show()\n",
    "#print ([datetime(2017,_,1).strftime('%b') for _ in range(1,13)])\n"
   ]
  },
  {
   "cell_type": "code",
   "execution_count": 179,
   "metadata": {
    "collapsed": false
   },
   "outputs": [
    {
     "data": {
      "image/png": "[encoded data removed]",
      "text/plain": [
       "<matplotlib.figure.Figure at 0x119822518>"
      ]
     },
     "metadata": {},
     "output_type": "display_data"
    }
   ],
   "source": [
    "#Do the same for median value\n",
    "#maxa = df[df['Ra'] > 100].groupby('Mo').max()\n",
    "maxn = df_n[df_n['Ra'] > 100].groupby('Mo').max()\n",
    "maxs = df_s[df_s['Ra'] > 100].groupby('Mo').max()\n",
    "maxe = df_e[df_e['Ra'] > 100].groupby('Mo').max()\n",
    "maxw = df_w[df_w['Ra'] > 100].groupby('Mo').max()\n",
    "\n",
    "#mina = df[df['Ra'] > 100].groupby('Mo').min()\n",
    "minn=df_n[df_n['Ra'] > 100].groupby('Mo').min()\n",
    "mins=df_s[df_s['Ra'] > 100].groupby('Mo').min()\n",
    "mine=df_e[df_e['Ra'] > 100].groupby('Mo').min()\n",
    "minw=df_w[df_w['Ra'] > 100].groupby('Mo').min()\n",
    "\n",
    "fig, ax = plt.subplots()\n",
    "#ax.plot(maxa['Ra']-mina['Ra'],'-o')\n",
    "ax.plot(maxn['Ra']-minn['Ra'],'-o')\n",
    "ax.plot(maxs['Ra']-mins['Ra'],'-o')\n",
    "ax.plot(maxw['Ra']-minw['Ra'],'-o')\n",
    "ax.plot(maxe['Ra']-mine['Ra'],'-o')\n",
    "plt.xticks(np.arange(1,13))\n",
    "plt.legend(['South', 'North', 'West', 'East'])\n",
    "ax.set_xticklabels([datetime(2017,_,1).strftime('%b') for _ in range(1,13)])\n",
    "plt.ylabel(\"Billing Rate ($)\")\n",
    "plt.xlabel(\"Month\")\n",
    "plt.savefig('maxmin.pdf', bbox_inches='tight', format='pdf')\n",
    "plt.show()\n"
   ]
  },
  {
   "cell_type": "markdown",
   "metadata": {},
   "source": [
    "# Analysis of retained customers"
   ]
  },
  {
   "cell_type": "code",
   "execution_count": 111,
   "metadata": {
    "collapsed": false
   },
   "outputs": [
    {
     "name": "stderr",
     "output_type": "stream",
     "text": [
      "/usr/local/lib/python3.6/site-packages/ipykernel_launcher.py:3: FutureWarning: convert_objects is deprecated.  To re-infer data dtypes for object columns, use Series.infer_objects()\n",
      "For all other conversions use the data-type specific converters pd.to_datetime, pd.to_timedelta and pd.to_numeric.\n",
      "  This is separate from the ipykernel package so we can avoid doing imports until\n"
     ]
    },
    {
     "name": "stdout",
     "output_type": "stream",
     "text": [
      "212\n",
      "337\n",
      "643\n",
      "1111\n",
      "1131\n",
      "1171\n",
      "1395\n",
      "1491\n",
      "1709\n",
      "2318\n",
      "2481\n",
      "3577\n",
      "4133\n",
      "4424\n",
      "4527\n",
      "4530\n",
      "4631\n",
      "4754\n",
      "4771\n",
      "5039\n",
      "5148\n",
      "5856\n",
      "6156\n",
      "6201\n",
      "6207\n",
      "6538\n",
      "7244\n",
      "7253\n",
      "7473\n",
      "7527\n",
      "7782\n",
      "7935\n",
      "8023\n",
      "8254\n",
      "8364\n",
      "8389\n",
      "9001\n",
      "9448\n",
      "9646\n",
      "9656\n",
      "9741\n",
      "10124\n",
      "10329\n",
      "10423\n",
      "10436\n",
      "10529\n",
      "10534\n",
      "10732\n",
      "10772\n",
      "10784\n",
      "11098\n",
      "11144\n",
      "11545\n",
      "11633\n",
      "11773\n",
      "11839\n",
      "11851\n",
      "11880\n",
      "12438\n",
      "12761\n",
      "13593\n",
      "13917\n",
      "14025\n",
      "14741\n",
      "15045\n",
      "15168\n",
      "15349\n",
      "15566\n",
      "15626\n",
      "15747\n",
      "15994\n",
      "16547\n",
      "16658\n",
      "16907\n",
      "17704\n",
      "17760\n",
      "17903\n",
      "17941\n",
      "17986\n",
      "18009\n",
      "18218\n",
      "18554\n",
      "18683\n",
      "19044\n",
      "19085\n",
      "19848\n",
      "19878\n",
      "20078\n",
      "20124\n",
      "20501\n",
      "20507\n",
      "20850\n",
      "20893\n",
      "20991\n",
      "20994\n",
      "21034\n",
      "21090\n",
      "21237\n",
      "21866\n",
      "22314\n",
      "22558\n",
      "22668\n",
      "23211\n",
      "23395\n",
      "23834\n",
      "23923\n",
      "24037\n",
      "24167\n",
      "24431\n",
      "24474\n",
      "24687\n",
      "25064\n",
      "25153\n",
      "25359\n",
      "25521\n",
      "25807\n",
      "26253\n",
      "26989\n",
      "27221\n",
      "27282\n",
      "27315\n",
      "27378\n",
      "27400\n",
      "27405\n",
      "27432\n",
      "27725\n",
      "27843\n",
      "27983\n",
      "28097\n",
      "28408\n",
      "28429\n",
      "28990\n",
      "29322\n",
      "29543\n",
      "29713\n",
      "29722\n",
      "29988\n",
      "30239\n",
      "30688\n",
      "30819\n",
      "30823\n",
      "30907\n",
      "30919\n",
      "31999\n",
      "32137\n",
      "32196\n",
      "32319\n",
      "32322\n",
      "32541\n",
      "32708\n",
      "33116\n",
      "33284\n",
      "33405\n",
      "33823\n",
      "33838\n",
      "33930\n",
      "34015\n",
      "34273\n",
      "35257\n",
      "35331\n",
      "35426\n",
      "35469\n",
      "35714\n",
      "35765\n",
      "35812\n",
      "36248\n",
      "36768\n",
      "37085\n",
      "37430\n",
      "37820\n",
      "37824\n",
      "38014\n",
      "38300\n",
      "38531\n",
      "38612\n",
      "38774\n",
      "38845\n",
      "39122\n",
      "39487\n",
      "39538\n",
      "39724\n",
      "39762\n",
      "39944\n",
      "39998\n",
      "40092\n",
      "40732\n",
      "40754\n",
      "40907\n",
      "40960\n",
      "40992\n",
      "41661\n",
      "41689\n",
      "41788\n",
      "41796\n",
      "41847\n",
      "41965\n",
      "42127\n",
      "42136\n",
      "42561\n",
      "43278\n",
      "43370\n",
      "43377\n",
      "43597\n",
      "43809\n",
      "44112\n",
      "44149\n",
      "44324\n",
      "44347\n",
      "44711\n",
      "44724\n",
      "44971\n",
      "45141\n",
      "45195\n",
      "46052\n",
      "46119\n",
      "46260\n",
      "46365\n",
      "46632\n",
      "47345\n",
      "47563\n",
      "47861\n",
      "47979\n",
      "48104\n",
      "48296\n",
      "48774\n",
      "48949\n",
      "49080\n",
      "49177\n",
      "49244\n",
      "49470\n",
      "49501\n",
      "49829\n",
      "49874\n",
      "49971\n",
      "50000\n",
      "50199\n",
      "50279\n",
      "50612\n",
      "50737\n",
      "51230\n",
      "52098\n",
      "52194\n",
      "52284\n",
      "52422\n",
      "52554\n",
      "52652\n",
      "52681\n",
      "52968\n",
      "53415\n",
      "53617\n",
      "54200\n",
      "54328\n",
      "54358\n",
      "54486\n",
      "54501\n",
      "54928\n",
      "55242\n",
      "55443\n",
      "55467\n",
      "56016\n",
      "56081\n",
      "56679\n",
      "56930\n",
      "57151\n",
      "58183\n",
      "58502\n",
      "58886\n",
      "59068\n",
      "59167\n",
      "59597\n",
      "59672\n",
      "59891\n",
      "59978\n",
      "60093\n",
      "61101\n",
      "61514\n",
      "61658\n",
      "62234\n",
      "62279\n",
      "63061\n",
      "64596\n",
      "64880\n",
      "64941\n",
      "65203\n",
      "65598\n",
      "65946\n",
      "66103\n",
      "67060\n",
      "67450\n",
      "67469\n",
      "67636\n",
      "67852\n",
      "67996\n",
      "68019\n",
      "68178\n",
      "68281\n",
      "68385\n",
      "68497\n",
      "68499\n",
      "68894\n",
      "69295\n",
      "69411\n",
      "69831\n",
      "69968\n",
      "70406\n",
      "71229\n",
      "71337\n",
      "71435\n",
      "71628\n",
      "71756\n",
      "72036\n",
      "72302\n",
      "72890\n",
      "73093\n",
      "73271\n",
      "73796\n",
      "74169\n",
      "74370\n",
      "74405\n",
      "74745\n",
      "74922\n",
      "75215\n",
      "75315\n",
      "75442\n",
      "75445\n",
      "75600\n",
      "75770\n",
      "76046\n",
      "76178\n",
      "76620\n",
      "76783\n",
      "76902\n",
      "77995\n",
      "78016\n",
      "78346\n",
      "78466\n",
      "78506\n",
      "78795\n",
      "78911\n",
      "79060\n",
      "79234\n",
      "80023\n",
      "80102\n",
      "80118\n",
      "80259\n",
      "80418\n",
      "80473\n",
      "80826\n",
      "81215\n",
      "81374\n",
      "81996\n",
      "82007\n",
      "82258\n",
      "82323\n",
      "82382\n",
      "82446\n",
      "82872\n",
      "83632\n",
      "84161\n",
      "84209\n",
      "84397\n",
      "84773\n",
      "84832\n",
      "85129\n",
      "85349\n",
      "85582\n",
      "85669\n",
      "86113\n",
      "86116\n",
      "86469\n",
      "86655\n",
      "86790\n",
      "86889\n",
      "87720\n",
      "87817\n",
      "87956\n",
      "88030\n",
      "88731\n",
      "88947\n",
      "88965\n",
      "89135\n",
      "89194\n",
      "89270\n",
      "89942\n",
      "89991\n",
      "90325\n",
      "90746\n",
      "90926\n",
      "90982\n",
      "91016\n",
      "91737\n",
      "92313\n",
      "92772\n",
      "92866\n",
      "92894\n",
      "93326\n",
      "94090\n",
      "94276\n",
      "94300\n",
      "95253\n",
      "95574\n",
      "95714\n",
      "95719\n",
      "95881\n",
      "95937\n",
      "96032\n",
      "96080\n",
      "96105\n",
      "96311\n",
      "96649\n",
      "96893\n",
      "97147\n",
      "97616\n",
      "97783\n",
      "98055\n",
      "98183\n",
      "98285\n",
      "98599\n",
      "98846\n",
      "99157\n",
      "99449\n",
      "99695\n",
      "100232\n",
      "100446\n",
      "100539\n",
      "100743\n",
      "100912\n",
      "101053\n",
      "101314\n",
      "101379\n",
      "101569\n",
      "101771\n",
      "101805\n",
      "102093\n",
      "102225\n",
      "102938\n",
      "103005\n",
      "103034\n",
      "103154\n",
      "103350\n",
      "103376\n"
     ]
    }
   ],
   "source": [
    "#Finally we can find out more information about left customers in July\n",
    "#Convert SubID to numeric for simplicity\n",
    "df['SID'] = df['SID'].convert_objects(convert_numeric=True)\n",
    "\n",
    "\n",
    "df_r=pd.DataFrame()\n",
    "z=0\n",
    "for i in range(1,103600):\n",
    "    if len(df[df.SID == i]) == 6:\n",
    "        print (i)\n",
    "        z=z+1\n",
    "        df_r=pd.concat((df_r,df[df.SID == i]), axis=0)\n",
    "#df_east=df[df.Reg == '\"West\"' ]\n",
    "#df_jan=df_west[df_west.Mo == 6]\n",
    "#print(df_jan_west)\n",
    "#sns.distplot(df_jan['Ra']);\n",
    "\n",
    "#for i in range\n",
    "#len(df[(df['Mo']==5)])\n",
    "#sns.distplot(df['Ra']);\n",
    "#df[df.SID == 21210]"
   ]
  },
  {
   "cell_type": "code",
   "execution_count": 890,
   "metadata": {
    "collapsed": false
   },
   "outputs": [
    {
     "data": {
      "image/png": "[encoded data removed]",
      "text/plain": [
       "<matplotlib.figure.Figure at 0x19313cf98>"
      ]
     },
     "metadata": {},
     "output_type": "display_data"
    }
   ],
   "source": [
    "#Plot the distribution of retained customers by Billing Rate\n",
    "dp=sns.distplot(df_r['Ra'], hist=True, rug=False)\n",
    "plt.xlim(140, 290)\n",
    "plt.xlabel(\"Billing Rate ($)\")\n",
    "plt.ylabel(\"Retained in July Customer distribution\")\n",
    "plt.savefig('ret.pdf', bbox_inches='tight', format='pdf')"
   ]
  },
  {
   "cell_type": "code",
   "execution_count": 183,
   "metadata": {
    "collapsed": false
   },
   "outputs": [
    {
     "name": "stdout",
     "output_type": "stream",
     "text": [
      "Mo\n",
      "Q1      NaN\n",
      "Q2    111.0\n",
      "Q3    682.0\n",
      "Q4    274.0\n",
      "Name: SID, dtype: float64\n"
     ]
    },
    {
     "data": {
      "image/png": "[encoded data removed]",
      "text/plain": [
       "<matplotlib.figure.Figure at 0x1182f4668>"
      ]
     },
     "metadata": {},
     "output_type": "display_data"
    }
   ],
   "source": [
    "#We can also merge months into the quarters of the year: Q1, Q2, Q3, Q4\n",
    "def simplify_months(df):\n",
    "    bins = (0, 3, 6, 9, 12)\n",
    "    group_names = ['Q1', 'Q2', 'Q3', 'Q4']\n",
    "    categories = pd.cut(df.Mo, bins, labels=group_names)\n",
    "    df_q.Mo = categories\n",
    "    return df\n",
    "df_q=df\n",
    "df_q=simplify_months(df)\n",
    "\n",
    "cm_q=df_q.groupby('Mo')['SID'].nunique()\n",
    "att_q=cm_q.diff(periods=1)*(-1)\n",
    "att_q.dropna(axis=0, how='any')\n",
    "print (att_q)\n",
    "att_q.plot.bar()\n",
    "plt.xlabel(\"Quarter of the year\")\n",
    "plt.ylabel('Attrition rate (number of left customers)')\n",
    "plt.show\n",
    "plt.savefig('quarters.pdf', bbox_inches='tight', format='pdf')\n"
   ]
  },
  {
   "cell_type": "code",
   "execution_count": null,
   "metadata": {
    "collapsed": true
   },
   "outputs": [],
   "source": []
  }
 ],
 "metadata": {
  "kernelspec": {
   "display_name": "Python 3",
   "language": "python",
   "name": "python3"
  },
  "language_info": {
   "codemirror_mode": {
    "name": "ipython",
    "version": 3
   },
   "file_extension": ".py",
   "mimetype": "text/x-python",
   "name": "python",
   "nbconvert_exporter": "python",
   "pygments_lexer": "ipython3",
   "version": "3.6.2"
  }
 },
 "nbformat": 4,
 "nbformat_minor": 1
}
