{
 "cells": [
  {
   "cell_type": "markdown",
   "metadata": {
    "_cell_guid": "a7e470f1-99b4-475d-a508-65e963f41e36",
    "_uuid": "123ff4e4685c1f72a123d4f5c2ada2392dfe548e",
    "collapsed": true
   },
   "source": [
    "\n",
    "# Predict survival on the Titanic with a Recurrent Neural Network\n",
    "\n",
    "In this notebook, we'll implement a recurrent neural network that performs Titanic survival predictions. If we see every row of dataset as a sentence we can use an RNN rather than a feedfoward network is more accurate since we can include information about the *sequence* of words (every word will be a feature (column) of the row).\n",
    "\n",
    "Here, we'll pass in words to an embedding layer. We need an embedding layer because we have tens of thousands of words, so we'll need a more efficient representation for our input data than one-hot encoded vectors. You should have seen this before from the word2vec lesson. You can actually train up an embedding with word2vec and use it here. But it's good enough to just have an embedding layer and let the network learn the embedding table on it's own.\n",
    "\n",
    "From the embedding layer, the new representations will be passed to LSTM cells. These will add recurrent connections to the network so we can include information about the sequence of words in the data. Finally, the LSTM cells will go to a sigmoid output layer here. We're using the sigmoid because we're trying to predict if this user feature set sentence implies a survivor or not. The output layer will just be a single unit then, with a sigmoid activation function.\n",
    "\n",
    "We don't care about the sigmoid outputs except for the very last one, we can ignore the rest. We'll calculate the cost from the output of the last step and the training label."
   ]
  },
  {
   "cell_type": "code",
   "execution_count": null,
   "metadata": {
    "_cell_guid": "78b0cd0e-95c9-432f-ac92-4cb2877ec5b5",
    "_execution_state": "idle",
    "_uuid": "a4b891596a8b6b846e898b3ed8c623d78daba560",
    "collapsed": true
   },
   "outputs": [],
   "source": [
    "import numpy as np\n",
    "import tensorflow as tf\n",
    "import pandas as pd"
   ]
  },
  {
   "cell_type": "code",
   "execution_count": null,
   "metadata": {
    "_cell_guid": "abb78c02-e2ff-4bab-9b77-234563ebace0",
    "_execution_state": "idle",
    "_uuid": "279a3433b03a7d4ecda7080b4e0230d1d1ea3c62",
    "collapsed": true
   },
   "outputs": [],
   "source": [
    "feature_sets_train = pd.read_csv('../input/train.csv')\n",
    "# TODO: Use both datasets to make the embeddings (vocab_to_int map)\n",
    "feature_sets_test = pd.read_csv('../input/test.csv')\n",
    "feature_sets_train_tests = pd.concat([feature_sets_train, feature_sets_test])\n",
    "feature_sets = feature_sets_train"
   ]
  },
  {
   "cell_type": "code",
   "execution_count": null,
   "metadata": {
    "_cell_guid": "f5f0172e-ba13-4e09-9e34-7b75aa291897",
    "_execution_state": "idle",
    "_uuid": "c1083647bf3e7cfe5fbef29b951091f6f71eccdb",
    "collapsed": true
   },
   "outputs": [],
   "source": [
    "passengers = [' '.join(map(str,passenger[[2,3,4,5,8,9,10,11]])) for passenger in feature_sets.values]\n",
    "passengers_test = [' '.join(map(str,passenger[[1,2,3,4,7,8,9,10]])) for passenger in feature_sets_test.values]\n",
    "\n",
    "survived = [passenger[1] for passenger in feature_sets.values]\n",
    "feature_sets = passengers\n",
    "feature_sets_test = passengers_test\n",
    "labels =  survived"
   ]
  },
  {
   "cell_type": "markdown",
   "metadata": {
    "_cell_guid": "33cf5899-dc60-4666-9821-e016654a4099",
    "_uuid": "9e561a0de55ac63902f821617cbb59bb487ee174"
   },
   "source": [
    "## Data preprocessing\n",
    "\n",
    "The first step when building a neural network model is getting your data into the proper form to feed into the network. Since we're using embedding layers, we'll need to encode each word with an integer. We'll also want to clean it up a bit.\n",
    "\n",
    "You can see an example of the feature_sets data above. We'll want to get rid of those periods. Also, you might notice that the feature_sets are delimited with newlines `\\n`. To deal with those, I'm going to split the text into each feature_set using `\\n` as the delimiter. Then I can combined all the feature_sets back together into one big string.\n",
    "\n",
    "First, let's remove all punctuation. Then get all the text without the newlines and split it into individual words."
   ]
  },
  {
   "cell_type": "code",
   "execution_count": null,
   "metadata": {
    "_cell_guid": "834dadc7-9105-436c-9a76-57eb5ac75379",
    "_execution_state": "idle",
    "_uuid": "411f06a01fd516a0fe3ac64dadb1518c3717fd73",
    "collapsed": true
   },
   "outputs": [],
   "source": [
    "feature_sets_train"
   ]
  },
  {
   "cell_type": "code",
   "execution_count": null,
   "metadata": {
    "_cell_guid": "154b2cc4-05e4-45ce-a641-05f4eb00cfb6",
    "_execution_state": "idle",
    "_uuid": "17be2650b570cc7ec27dfd0b00f4974f6770ffc2",
    "collapsed": true
   },
   "outputs": [],
   "source": [
    "feature_sets_train_tests"
   ]
  },
  {
   "cell_type": "code",
   "execution_count": null,
   "metadata": {
    "_cell_guid": "ea312a13-376c-421e-823f-c58dcb284375",
    "_execution_state": "idle",
    "_uuid": "78c6185a703bafb6427eb01469f1a9916f1d0fc3",
    "collapsed": true
   },
   "outputs": [],
   "source": [
    "#from string import punctuation\n",
    "#all_text = ''.join([c for c in feature_sets if c not in punctuation])\n",
    "#feature_sets = all_text.split(',')\n",
    "\n",
    "passengers = [' '.join(map(str,passenger[[0,1,2,3,4,5,7,8,9,11]])) for passenger in feature_sets_train_tests.values]\n",
    "\n",
    "all_text = ' '.join(passengers)\n",
    "words = all_text.split()"
   ]
  },
  {
   "cell_type": "code",
   "execution_count": null,
   "metadata": {
    "_cell_guid": "9c150c56-c16e-4931-bb3d-12c8b044ea55",
    "_execution_state": "idle",
    "_uuid": "0c0583971e38d76b9e427a47bee2f55ccee70a10",
    "collapsed": true
   },
   "outputs": [],
   "source": [
    "all_text[:1000]"
   ]
  },
  {
   "cell_type": "code",
   "execution_count": null,
   "metadata": {
    "_cell_guid": "749b1db7-7f17-4a18-9d13-c0e7daeed3a6",
    "_execution_state": "idle",
    "_uuid": "c75568883e60edfb825e7add04f29d6a5818ea1e",
    "collapsed": true
   },
   "outputs": [],
   "source": [
    "words[:10]"
   ]
  },
  {
   "cell_type": "markdown",
   "metadata": {
    "_cell_guid": "f1e3662d-f3ac-47cd-a2ce-b71f83bb0019",
    "_uuid": "30d623e357a9057de2d1c547dae565fc389f2ed3"
   },
   "source": [
    "### Encoding the words\n",
    "\n",
    "The embedding lookup requires that we pass in integers to our network. The easiest way to do this is to create dictionaries that map the words in the vocabulary to integers. Then we can convert each of our feature_sets into integers so they can be passed into the network.\n",
    "\n",
    "Now we're going to encode the words with integers. Build a dictionary that maps words to integers. Later we're going to pad our input vectors with zeros, so make sure the integers **start at 1, not 0**.\n",
    "Also, we convert the feature_sets to integers and store the feature_sets in a new list called `feature_sets_ints`. "
   ]
  },
  {
   "cell_type": "code",
   "execution_count": null,
   "metadata": {
    "_cell_guid": "c197337b-207f-44c2-8341-8148c5fb6cc5",
    "_execution_state": "idle",
    "_uuid": "fd22082eb797fd41204a0d1006f8497501441bc9",
    "collapsed": true
   },
   "outputs": [],
   "source": [
    "from collections import Counter\n",
    "counts = Counter(words)\n",
    "vocab = sorted(counts, key=counts.get, reverse=True)\n",
    "vocab_to_int = {word: ii for ii, word in enumerate(vocab, 1)}\n",
    "\n",
    "feature_sets_ints = []\n",
    "feature_sets_ints_test = []\n",
    "print(feature_sets[0])\n",
    "for each in feature_sets:\n",
    "    feature_sets_ints.append([vocab_to_int[word] for word in each.split()])\n",
    "\n",
    "print(feature_sets_test[0])\n",
    "for each in feature_sets_test:\n",
    "    feature_sets_ints_test.append([vocab_to_int[word] for word in each.split()])   "
   ]
  },
  {
   "cell_type": "code",
   "execution_count": null,
   "metadata": {
    "_cell_guid": "511fadd7-d012-4f68-8078-0d3709141ec1",
    "_execution_state": "idle",
    "_uuid": "02c32afa8b9148ef5fe9f829ee54b0937e497064",
    "collapsed": true
   },
   "outputs": [],
   "source": [
    "feature_set_lens = Counter([len(x) for x in feature_sets_ints])\n",
    "print(\"Zero-length feature_sets: {}\".format(feature_set_lens[0]))\n",
    "print(\"Maximum feature_set length: {}\".format(max(feature_set_lens)))"
   ]
  },
  {
   "cell_type": "markdown",
   "metadata": {
    "_cell_guid": "429a157b-c9fc-4a7a-8f6e-9b64fdca1eba",
    "_uuid": "70a21aa4b878eed66cba9fae9577ca589e70c63d"
   },
   "source": [
    "Okay, a couple issues here. We seem to have one feature_set with zero length. And, the maximum feature_set length is way too many steps for our RNN. Let's truncate to 200 steps. For feature_sets shorter than 200, we'll pad with 0s. For feature_sets longer than 200, we can truncate them to the first 200 characters.\n",
    "First, we remove the feature_set with zero length from the `feature_sets_ints` list."
   ]
  },
  {
   "cell_type": "code",
   "execution_count": null,
   "metadata": {
    "_cell_guid": "d1312909-eeca-40a0-8668-5d4e131daa07",
    "_execution_state": "idle",
    "_uuid": "5391ee15d3c0e1f587c75242de388c16b2bf401f",
    "collapsed": true
   },
   "outputs": [],
   "source": [
    "non_zero_idx = [ii for ii, feature_set in enumerate(feature_sets_ints) if len(feature_set) != 0]\n",
    "print(len(non_zero_idx))\n",
    "\n",
    "non_zero_idx_test = [ii for ii, feature_set in enumerate(feature_sets_ints_test) if len(feature_set) != 0]\n",
    "print(len(non_zero_idx_test))"
   ]
  },
  {
   "cell_type": "code",
   "execution_count": null,
   "metadata": {
    "_cell_guid": "8800dbb1-a353-460a-83a4-ac6d199b4299",
    "_execution_state": "idle",
    "_uuid": "9fcad91dd6b141e6b103a104cb3403deab01cb53",
    "collapsed": true
   },
   "outputs": [],
   "source": [
    "print(feature_sets_ints[-1])\n",
    "print(feature_sets_ints_test[-1])"
   ]
  },
  {
   "cell_type": "markdown",
   "metadata": {
    "_cell_guid": "eaa23133-7b69-4fe8-b32d-a90033b2fca8",
    "_uuid": "03b6a06f69a1d5c7205a17da314c7d890bef4ab6"
   },
   "source": [
    "Turns out its the final feature_set that has zero length. But that might not always be the case, so let's make it more general."
   ]
  },
  {
   "cell_type": "code",
   "execution_count": null,
   "metadata": {
    "_cell_guid": "aa909970-dc24-4096-9666-1007a6a19e6a",
    "_execution_state": "idle",
    "_uuid": "c92f9395c30b88cddff44edb6d5be2eb291ec43d",
    "collapsed": true
   },
   "outputs": [],
   "source": [
    "feature_sets_ints = [feature_sets_ints[ii] for ii in non_zero_idx]\n",
    "feature_sets_ints_test = [feature_sets_ints_test[ii] for ii in non_zero_idx_test]\n",
    "\n",
    "labels = np.array([labels[ii] for ii in non_zero_idx])"
   ]
  },
  {
   "cell_type": "markdown",
   "metadata": {
    "_cell_guid": "63669f9e-9318-4bcd-b0a5-1b0d9a680180",
    "_uuid": "3d82dd65a8397b7958f4efe85976aa84b4177dec"
   },
   "source": [
    "Now, we create an array `features` that contains the data we'll pass to the network. The data should come from `feature_set_ints`, since we want to feed integers to the network. Each row should be 200 elements long. For feature_sets shorter than 200 words, left pad with 0s. That is, if the feature_set is `['best', 'movie', 'ever']`, `[117, 18, 128]` as integers, the row will look like `[0, 0, 0, ..., 0, 117, 18, 128]`. For feature_sets longer than 200, use on the first 200 words as the feature vector.\n",
    "\n",
    "This isn't trivial and there are a bunch of ways to do this. But, if you're going to be building your own deep learning networks, you're going to have to get used to preparing your data.\n",
    "\n"
   ]
  },
  {
   "cell_type": "code",
   "execution_count": null,
   "metadata": {
    "_cell_guid": "a7f7c560-1352-4078-8edb-b049422ec0fb",
    "_execution_state": "idle",
    "_uuid": "20ec6d71bfd8c9a4351e6bae3b78f8a308f36c1f",
    "collapsed": true
   },
   "outputs": [],
   "source": [
    "seq_len = 24\n",
    "features = np.zeros((len(feature_sets_ints), seq_len), dtype=int)\n",
    "for i, row in enumerate(feature_sets_ints):\n",
    "    features[i, -len(row):] = np.array(row)[:seq_len]\n",
    "seq_len = 24\n",
    "features_test = np.zeros((len(feature_sets_ints_test), seq_len), dtype=int)\n",
    "for i, row in enumerate(feature_sets_ints_test):\n",
    "    features_test[i, -len(row):] = np.array(row)[:seq_len]"
   ]
  },
  {
   "cell_type": "markdown",
   "metadata": {
    "_cell_guid": "d5931f6e-1dee-41b0-95f1-ce74a404fc27",
    "_uuid": "525952e890b7428f4da624a9a9aa980cfecf139c"
   },
   "source": [
    "## Training, Validation, Test\n",
    "\n"
   ]
  },
  {
   "cell_type": "code",
   "execution_count": null,
   "metadata": {
    "_cell_guid": "89d55e11-1a3c-4a5f-9c9f-e122a39e6174",
    "_execution_state": "idle",
    "_uuid": "0891855bff634d0bd9aa0adc0a8d804232f20ba9",
    "collapsed": true
   },
   "outputs": [],
   "source": [
    "split_frac = 0.75\n",
    "split_idx = int(len(features)*split_frac)\n",
    "train_x, val_x = features[:split_idx], features[split_idx:]\n",
    "train_y, val_y = labels[:split_idx], labels[split_idx:]\n",
    "\n",
    "test_idx = int(len(val_x)*0.5)\n",
    "val_x, test_x = val_x[:test_idx], val_x[test_idx:]\n",
    "val_y, test_y = val_y[:test_idx], val_y[test_idx:]\n",
    "\n",
    "print(\"\\t\\t\\tFeature Shapes:\")\n",
    "print(\"Train set: \\t\\t{}\".format(train_x.shape), \n",
    "      \"\\nValidation set: \\t{}\".format(val_x.shape),\n",
    "      \"\\nTest set: \\t\\t{}\".format(test_x.shape))"
   ]
  },
  {
   "cell_type": "markdown",
   "metadata": {
    "_cell_guid": "97d4629b-c1ca-4e52-8f94-cbfa951502d8",
    "_uuid": "b543b4d3099d9ae68cdca91222641ba6de5c852d"
   },
   "source": [
    "With our data in nice shape, we'll split it into training, validation, and test sets.\n",
    "\n",
    "Now we create the training, validation, and test sets here. we'll need to create sets for the features and the labels, `train_x` and `train_y` for example. Define a split fraction, `split_frac` as the fraction of data to keep in the training set. Usually this is set to 0.8 or 0.9. The rest of the data will be split in half to create the validation and testing data."
   ]
  },
  {
   "cell_type": "markdown",
   "metadata": {
    "_cell_guid": "13fe6a26-c636-4ab0-a820-153a1a2ae03f",
    "_uuid": "97e2d33d97dca4cf0e86b6e569dc1bc0dbc7b1d8"
   },
   "source": [
    "With train, validation, and text fractions of 0.8, 0.1, 0.1, the final shapes should look like:\n",
    "```\n",
    "                    Feature Shapes:\n",
    "Train set: \t\t (20000, 200) \n",
    "Validation set: \t(2500, 200) \n",
    "Test set: \t\t  (2500, 200)\n",
    "```"
   ]
  },
  {
   "cell_type": "markdown",
   "metadata": {
    "_cell_guid": "cdfd53e3-16e2-422f-807f-d63865093679",
    "_uuid": "bb74463b0fc1447696973b4d65ecf688a00d4e3d"
   },
   "source": [
    "## Build the graph\n",
    "\n",
    "Here, we'll build the graph. First up, defining the hyperparameters.\n",
    "\n",
    "* `lstm_size`: Number of units in the hidden layers in the LSTM cells. Usually larger is better performance wise. Common values are 128, 256, 512, etc.\n",
    "* `lstm_layers`: Number of LSTM layers in the network. I'd start with 1, then add more if I'm underfitting.\n",
    "* `batch_size`: The number of feature_sets to feed the network in one training pass. Typically this should be set as high as you can go without running out of memory.\n",
    "* `learning_rate`: Learning rate"
   ]
  },
  {
   "cell_type": "code",
   "execution_count": null,
   "metadata": {
    "_cell_guid": "cd27ca10-1fab-48b6-86be-911caa694853",
    "_execution_state": "idle",
    "_uuid": "c1b5bd7c10ea18e3d916341179c8c080350b209b",
    "collapsed": true
   },
   "outputs": [],
   "source": [
    "lstm_size = 256\n",
    "lstm_layers = 1\n",
    "batch_len = 100\n",
    "learning_rate = 0.001"
   ]
  },
  {
   "cell_type": "markdown",
   "metadata": {
    "_cell_guid": "e0cb7877-62c2-470f-8624-dca6bfe0736f",
    "_uuid": "97c2a1d70391f8c291b1abdb8d3754f43b20b59e"
   },
   "source": [
    "For the network itself, we'll be passing in our 200 element long feature_set vectors. Each batch will be `batch_size` vectors. We'll also be using dropout on the LSTM layer, so we'll make a placeholder for the keep probability."
   ]
  },
  {
   "cell_type": "markdown",
   "metadata": {
    "_cell_guid": "071e8b4c-478b-473f-a0ff-52894dbb2701",
    "_uuid": "c363f19eb891908ea192b1e0675e712e7d9e89f4"
   },
   "source": [
    "We create the `inputs_`, `labels_`, and drop out `keep_prob` placeholders using `tf.placeholder`. `labels_` needs to be two-dimensional to work with some functions later.  Since `keep_prob` is a scalar (a 0-dimensional tensor), you shouldn't provide a size to `tf.placeholder`."
   ]
  },
  {
   "cell_type": "code",
   "execution_count": null,
   "metadata": {
    "_cell_guid": "02f0647a-51cc-4a58-85c5-c317d51b40b2",
    "_execution_state": "idle",
    "_uuid": "e2f1b2070bcdf635b68359cc0e1c598264a10f28",
    "collapsed": true
   },
   "outputs": [],
   "source": [
    "n_words = len(vocab_to_int)+1\n",
    "\n",
    "# Create the graph object\n",
    "graph = tf.Graph()\n",
    "# Add nodes to the graph\n",
    "with graph.as_default():\n",
    "    inputs_ = tf.placeholder(tf.int32, [None, None], name='inputs')\n",
    "    labels_ = tf.placeholder(tf.int32, [None, None], name='labels')\n",
    "    keep_prob = tf.placeholder(tf.float32, name='keep_prob')\n",
    "    batch_size = tf.placeholder_with_default(tf.constant(batch_len), shape=[], name='batch_size')"
   ]
  },
  {
   "cell_type": "code",
   "execution_count": null,
   "metadata": {
    "_cell_guid": "eb106002-fc70-4615-9237-6ba1c3e46364",
    "_execution_state": "idle",
    "_uuid": "cd63e847ed56a6f4f2f9ee7f206b013430e5b6e9",
    "collapsed": true
   },
   "outputs": [],
   "source": [
    "n_words"
   ]
  },
  {
   "cell_type": "markdown",
   "metadata": {
    "_cell_guid": "9095a25d-6004-4de2-b509-1867f4b9c06d",
    "_uuid": "ad610d9d118f34888b414a532995fc1d2ebdc20a"
   },
   "source": [
    "### Embedding\n",
    "\n",
    "Now we'll add an embedding layer. We need to do this because there are 74000 words in our vocabulary. It is massively inefficient to one-hot encode our classes here. You should remember dealing with this problem from the word2vec lesson. Instead of one-hot encoding, we can have an embedding layer and use that layer as a lookup table. You could train an embedding layer using word2vec, then load it here. But, it's fine to just make a new layer and let the network learn the weights.\n",
    "\n",
    ">We create the embedding lookup matrix as a `tf.Variable`. Use that embedding matrix to get the embedded vectors to pass to the LSTM cell with [`tf.nn.embedding_lookup`](https://www.tensorflow.org/api_docs/python/tf/nn/embedding_lookup). This function takes the embedding matrix and an input tensor, such as the feature_set vectors. Then, it'll return another tensor with the embedded vectors. So, if the embedding layer as 200 units, the function will return a tensor with size [batch_size, 200].\n",
    "\n"
   ]
  },
  {
   "cell_type": "code",
   "execution_count": null,
   "metadata": {
    "_cell_guid": "d5330be8-504c-4a8a-a52d-47cea45d45b1",
    "_execution_state": "idle",
    "_uuid": "d838d94a8d7693788c3e853b116de31e12859019",
    "collapsed": true
   },
   "outputs": [],
   "source": [
    "# Size of the embedding vectors (number of units in the embedding layer)\n",
    "embed_size = 300 \n",
    "\n",
    "with graph.as_default():\n",
    "    embedding = tf.Variable(tf.random_uniform((n_words, embed_size), -1, 1))\n",
    "    embed = tf.nn.embedding_lookup(embedding, inputs_)"
   ]
  },
  {
   "cell_type": "markdown",
   "metadata": {
    "_cell_guid": "36e1cd50-66f5-46c4-9ad6-e6ad4ff334fe",
    "_uuid": "cb28e4e978e494c0e16ddacc6d44430c53f5ae4a"
   },
   "source": [
    "### LSTM cell\n",
    "\n",
    "<img src=\"assets/network_diagram.png\" width=400px>\n",
    "\n",
    "Next, we'll create our LSTM cells to use in the recurrent network ([TensorFlow documentation](https://www.tensorflow.org/api_docs/python/tf/contrib/rnn)). Here we are just defining what the cells look like. This isn't actually building the graph, just defining the type of cells we want in our graph.\n",
    "\n",
    "To create a basic LSTM cell for the graph, we'll want to use `tf.contrib.rnn.BasicLSTMCell`. Looking at the function documentation:\n",
    "\n",
    "```\n",
    "tf.contrib.rnn.BasicLSTMCell(num_units, forget_bias=1.0, input_size=None, state_is_tuple=True, activation=<function tanh at 0x109f1ef28>)\n",
    "```\n",
    "\n",
    "you can see it takes a parameter called `num_units`, the number of units in the cell, called `lstm_size` in this code. So then, you can write something like \n",
    "\n",
    "```\n",
    "lstm = tf.contrib.rnn.BasicLSTMCell(num_units)\n",
    "```\n",
    "\n",
    "to create an LSTM cell with `num_units`. Next, you can add dropout to the cell with `tf.contrib.rnn.DropoutWrapper`. This just wraps the cell in another cell, but with dropout added to the inputs and/or outputs. It's a really convenient way to make your network better with almost no effort! So you'd do something like\n",
    "\n",
    "```\n",
    "drop = tf.contrib.rnn.DropoutWrapper(cell, output_keep_prob=keep_prob)\n",
    "```\n",
    "\n",
    "Most of the time, you're network will have better performance with more layers. That's sort of the magic of deep learning, adding more layers allows the network to learn really complex relationships. Again, there is a simple way to create multiple layers of LSTM cells with `tf.contrib.rnn.MultiRNNCell`:\n",
    "\n",
    "```\n",
    "cell = tf.contrib.rnn.MultiRNNCell([drop] * lstm_layers)\n",
    "```\n",
    "\n",
    "Here, `[drop] * lstm_layers` creates a list of cells (`drop`) that is `lstm_layers` long. The `MultiRNNCell` wrapper builds this into multiple layers of RNN cells, one for each cell in the list.\n",
    "\n",
    "So the final cell you're using in the network is actually multiple (or just one) LSTM cells with dropout. But it all works the same from an achitectural viewpoint, just a more complicated graph in the cell.\n",
    "\n",
    " Below, we  use `tf.contrib.rnn.BasicLSTMCell` to create an LSTM cell. Then, add drop out to it with `tf.contrib.rnn.DropoutWrapper`. Finally, create multiple LSTM layers with `tf.contrib.rnn.MultiRNNCell`.\n",
    "\n",
    "Here is [a tutorial on building RNNs](https://www.tensorflow.org/tutorials/recurrent) that will help you out.\n"
   ]
  },
  {
   "cell_type": "code",
   "execution_count": null,
   "metadata": {
    "_cell_guid": "3397af03-953c-4793-8621-deabf2ffb4aa",
    "_execution_state": "idle",
    "_uuid": "9d1d793807609adf3d144aea2e68706dc6de6684",
    "collapsed": true
   },
   "outputs": [],
   "source": [
    "with graph.as_default():\n",
    "    # Your basic LSTM cell\n",
    "    lstm = tf.contrib.rnn.BasicLSTMCell(lstm_size)\n",
    "    \n",
    "    # Add dropout to the cell\n",
    "    drop = tf.contrib.rnn.DropoutWrapper(lstm, output_keep_prob=keep_prob)\n",
    "    \n",
    "    # Stack up multiple LSTM layers, for deep learning\n",
    "    cell = tf.contrib.rnn.MultiRNNCell([drop] * lstm_layers)\n",
    "    \n",
    "    # Getting an initial state of all zerosn\n",
    "    initial_state = cell.zero_state(batch_size, tf.float32)"
   ]
  },
  {
   "cell_type": "markdown",
   "metadata": {
    "_cell_guid": "2b37d59f-da15-4d2c-91e6-f0665321dca6",
    "_uuid": "4814e1851ffd2a8a3c67a2034665128f5e9262f9"
   },
   "source": [
    "### RNN forward pass\n",
    "\n",
    "<img src=\"assets/network_diagram.png\" width=400px>\n",
    "\n",
    "Now we need to actually run the data through the RNN nodes. You can use [`tf.nn.dynamic_rnn`](https://www.tensorflow.org/api_docs/python/tf/nn/dynamic_rnn) to do this. You'd pass in the RNN cell you created (our multiple layered LSTM `cell` for instance), and the inputs to the network.\n",
    "\n",
    "```\n",
    "outputs, final_state = tf.nn.dynamic_rnn(cell, inputs, initial_state=initial_state)\n",
    "```\n",
    "\n",
    "Above I created an initial state, `initial_state`, to pass to the RNN. This is the cell state that is passed between the hidden layers in successive time steps. `tf.nn.dynamic_rnn` takes care of most of the work for us. We pass in our cell and the input to the cell, then it does the unrolling and everything else for us. It returns outputs for each time step and the final_state of the hidden layer.\n",
    "\n",
    "We use `tf.nn.dynamic_rnn` to add the forward pass through the RNN. Remember that we're actually passing in vectors from the embedding layer, `embed`.\n",
    "\n"
   ]
  },
  {
   "cell_type": "code",
   "execution_count": null,
   "metadata": {
    "_cell_guid": "f1f57f3a-83bf-4513-b5c9-16e7b5ba984a",
    "_execution_state": "idle",
    "_uuid": "7fda46d44937f3f8d3af8838207291255c37d7a4",
    "collapsed": true
   },
   "outputs": [],
   "source": [
    "with graph.as_default():\n",
    "    outputs, final_state = tf.nn.dynamic_rnn(cell, embed,\n",
    "                                             initial_state=initial_state)"
   ]
  },
  {
   "cell_type": "markdown",
   "metadata": {
    "_cell_guid": "5773ae25-30c8-4c6c-8503-9542a2e07fba",
    "_uuid": "06e53cba207b03dbdfae5ee466283e214bf27925"
   },
   "source": [
    "### Output\n",
    "\n",
    "We only care about the final output, we'll be using that as our survival prediction. So we need to grab the last output with `outputs[:, -1]`, the calculate the cost from that and `labels_`."
   ]
  },
  {
   "cell_type": "code",
   "execution_count": null,
   "metadata": {
    "_cell_guid": "4e30a072-d359-475e-8834-c1735873bc7e",
    "_execution_state": "idle",
    "_uuid": "b6cbd21dcbfdfb46ab2375195cd098833718c5d0",
    "collapsed": true
   },
   "outputs": [],
   "source": [
    "with graph.as_default():\n",
    "    predictions = tf.contrib.layers.fully_connected(outputs[:, -1], 1, activation_fn=tf.sigmoid)\n",
    "    cost = tf.losses.mean_squared_error(labels_, predictions)\n",
    "    \n",
    "    optimizer = tf.train.AdamOptimizer(learning_rate).minimize(cost)"
   ]
  },
  {
   "cell_type": "markdown",
   "metadata": {
    "_cell_guid": "1ecfe6bf-b774-413a-a438-156c0f34d3fc",
    "_uuid": "596b7f0a5f5499e4538990fa171c4f5866a3f917"
   },
   "source": [
    "### Validation accuracy\n",
    "\n",
    "Here we can add a few nodes to calculate the accuracy which we'll use in the validation pass."
   ]
  },
  {
   "cell_type": "code",
   "execution_count": null,
   "metadata": {
    "_cell_guid": "94b92f97-1d46-4730-bc9a-e5a947c99bb8",
    "_execution_state": "idle",
    "_uuid": "86afb98e4e67707c6e6cc1808a885c302815c3cd",
    "collapsed": true
   },
   "outputs": [],
   "source": [
    "with graph.as_default():\n",
    "    correct_pred = tf.equal(tf.cast(tf.round(predictions), tf.int32), labels_)\n",
    "    accuracy = tf.reduce_mean(tf.cast(correct_pred, tf.float32))"
   ]
  },
  {
   "cell_type": "markdown",
   "metadata": {
    "_cell_guid": "4f2b305f-fd55-44f2-8fb9-4b1de66921e3",
    "_uuid": "e2ef11a0fbb11ccf7f69dd0edb90241bec769466"
   },
   "source": [
    "### Batching\n",
    "\n",
    "This is a simple function for returning batches from our data. First it removes data such that we only have full batches. Then it iterates through the `x` and `y` arrays and returns slices out of those arrays with size `[batch_size]`."
   ]
  },
  {
   "cell_type": "code",
   "execution_count": null,
   "metadata": {
    "_cell_guid": "4715d16d-e524-44c0-8f84-bb793c3ca60e",
    "_execution_state": "idle",
    "_uuid": "b831d38f379c46ba8c202bcfc94a02a03193e642",
    "collapsed": true
   },
   "outputs": [],
   "source": [
    "def get_batches(x, y, batch_size=100):\n",
    "    n_batches = len(x)//batch_size\n",
    "    x, y = x[:n_batches*batch_size], y[:n_batches*batch_size]\n",
    "    for ii in range(0, len(x), batch_size):\n",
    "        yield x[ii:ii+batch_size], y[ii:ii+batch_size]"
   ]
  },
  {
   "cell_type": "markdown",
   "metadata": {
    "_cell_guid": "8f2450b2-bf73-4aaa-a392-24de5253adb9",
    "_uuid": "ed6aaca72fca13354d4531a917da4a54a3b5e2d8"
   },
   "source": [
    "## Training\n",
    "\n",
    "Below is the typical training code. Before you run this, make sure the `checkpoints` directory exists."
   ]
  },
  {
   "cell_type": "code",
   "execution_count": null,
   "metadata": {
    "_cell_guid": "26da0888-1d7f-4f12-bef0-5291bfad1dd7",
    "_execution_state": "idle",
    "_uuid": "91fa5dbd89d94ddf96bf84ac5d1b5194c15ce246",
    "collapsed": true
   },
   "outputs": [],
   "source": [
    "epochs = 5\n",
    "\n",
    "with graph.as_default():\n",
    "    saver = tf.train.Saver()\n",
    "\n",
    "with tf.Session(graph=graph) as sess:\n",
    "    sess.run(tf.global_variables_initializer())\n",
    "    iteration = 1\n",
    "    for e in range(epochs):\n",
    "        state = sess.run(initial_state)\n",
    "        \n",
    "        for ii, (x, y) in enumerate(get_batches(train_x, train_y, batch_len), 1):\n",
    "            feed = {inputs_: x,\n",
    "                    labels_: y[:, None],\n",
    "                    keep_prob: 0.5,\n",
    "                    initial_state: state}\n",
    "            loss, state, _ = sess.run([cost, final_state, optimizer], feed_dict=feed)\n",
    "            \n",
    "            if iteration%5==0:\n",
    "                print(\"Epoch: {}/{}\".format(e, epochs),\n",
    "                      \"Iteration: {}\".format(iteration),\n",
    "                      \"Train loss: {:.3f}\".format(loss))\n",
    "\n",
    "            if iteration%25==0:\n",
    "                val_acc = []\n",
    "                val_state = sess.run(cell.zero_state(batch_len, tf.float32))\n",
    "                for x, y in get_batches(val_x, val_y, batch_len):\n",
    "                    feed = {inputs_: x,\n",
    "                            labels_: y[:, None],\n",
    "                            keep_prob: 1,\n",
    "                            initial_state: val_state}\n",
    "                    batch_acc, val_state = sess.run([accuracy, final_state], feed_dict=feed)\n",
    "                    val_acc.append(batch_acc)\n",
    "                print(\"Val acc: {:.3f}\".format(np.mean(val_acc)))\n",
    "            iteration +=1\n",
    "    saver.save(sess, \"checkpoints/survival_preds.ckpt\")"
   ]
  },
  {
   "cell_type": "markdown",
   "metadata": {
    "_cell_guid": "36d3d35c-2f74-49d5-a824-e5c2b850d5df",
    "_uuid": "9c54f43b0ce2ab354b61545d98202bb06822be49"
   },
   "source": [
    "## Testing"
   ]
  },
  {
   "cell_type": "code",
   "execution_count": null,
   "metadata": {
    "_cell_guid": "171f0ded-68c1-4971-9876-ccff34e701d7",
    "_execution_state": "idle",
    "_uuid": "c86d89ce2c0d7f13517a53062b23dd7058833384",
    "collapsed": true
   },
   "outputs": [],
   "source": [
    "test_acc = []\n",
    "with tf.Session(graph=graph) as sess:\n",
    "    saver.restore(sess, tf.train.latest_checkpoint('checkpoints'))\n",
    "    test_state = sess.run(cell.zero_state(batch_len, tf.float32))\n",
    "    for ii, (x, y) in enumerate(get_batches(test_x, test_y, batch_len), 1):\n",
    "        feed = {inputs_: x,\n",
    "                labels_: y[:, None],\n",
    "                keep_prob: 1,\n",
    "                initial_state: test_state}\n",
    "        batch_acc, test_state = sess.run([accuracy, final_state], feed_dict=feed)\n",
    "        test_acc.append(batch_acc) \n",
    "    print(\"Test accuracy: {:.3f}\".format(np.mean(test_acc)))"
   ]
  },
  {
   "cell_type": "markdown",
   "metadata": {
    "_cell_guid": "53f91fb1-0bad-4855-adbf-59815244f00a",
    "_uuid": "d0309c94cfe5130b610f7824de12d24a74f62f55"
   },
   "source": [
    "## Making submision file"
   ]
  },
  {
   "cell_type": "code",
   "execution_count": null,
   "metadata": {
    "_cell_guid": "159f289e-bac3-4d91-87c2-ff6e045483fb",
    "_execution_state": "idle",
    "_uuid": "88e1cfc665a28df43fcc711bc40e91bb77bfef44",
    "collapsed": true
   },
   "outputs": [],
   "source": [
    "with tf.Session(graph=graph) as sess:\n",
    "    saver.restore(sess, tf.train.latest_checkpoint('checkpoints'))\n",
    "    test_state = sess.run(cell.zero_state(features_test.shape[0], tf.float32))\n",
    "    feed = {inputs_: features_test,\n",
    "            keep_prob: 1,\n",
    "            initial_state: test_state}\n",
    "    preds = np.asarray(sess.run([predictions], feed_dict=feed))\n",
    "    preds =  np.where(preds >= 0.5, 1, preds)\n",
    "    preds =  np.where(preds < 0.5, 0, preds)\n",
    "    preds = np.asarray(preds, dtype=np.int32)\n",
    "    #print(preds)\n",
    "    df = pd.DataFrame(preds[0])\n",
    "    df.index += 892 # test file passenger column start with this id\n",
    "    df.columns = ['Survived']\n",
    "    df.to_csv('titanic_test_kaggle_submission.csv', index_label='PassengerId')"
   ]
  },
  {
   "cell_type": "code",
   "execution_count": null,
   "metadata": {
    "_cell_guid": "fcbefcae-e986-4f46-893d-9bb9deb021d7",
    "_execution_state": "idle",
    "_uuid": "cf30660119a72955eb2c67d1ba3546f784e4add7",
    "collapsed": true
   },
   "outputs": [],
   "source": []
  },
  {
   "cell_type": "code",
   "execution_count": null,
   "metadata": {
    "_cell_guid": "8864978d-79bf-4f33-bb88-2117c14a82ad",
    "_execution_state": "idle",
    "_uuid": "1f8b43ebd3c530affb53f3f4540b7f3a669dbbc5",
    "collapsed": true
   },
   "outputs": [],
   "source": []
  }
 ],
 "metadata": {
  "kernelspec": {
   "display_name": "Python 3",
   "language": "python",
   "name": "python3"
  },
  "language_info": {
   "codemirror_mode": {
    "name": "ipython",
    "version": 3
   },
   "file_extension": ".py",
   "mimetype": "text/x-python",
   "name": "python",
   "nbconvert_exporter": "python",
   "pygments_lexer": "ipython3",
   "version": "3.6.2"
  }
 },
 "nbformat": 4,
 "nbformat_minor": 2
}
